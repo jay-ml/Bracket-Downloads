{
 "cells": [
  {
   "cell_type": "code",
   "execution_count": null,
   "id": "2a066d60-3809-46bf-9ee7-8261c138f025",
   "metadata": {},
   "outputs": [],
   "source": [
    "import os\n",
    "dir = '/Users/jayml/Documents/Local Projects/MIAA/Bracket Downloads/brackets/'\n",
    "newdir = '/Users/jayml/Documents/Local Projects/MIAA/Bracket Downloads/brackets/miaa/'\n",
    "directory = os.fsencode(dir)\n",
    "    \n",
    "for file in os.listdir(directory):\n",
    "    filename = os.fsdecode(file)\n",
    "    if 'East Division' in filename: \n",
    "        os.rename(os.path.join(dir, filename), os.path.join(newdir, filename))\n",
    "        print(filename + ' moved to miaa folder.')\n",
    "        continue\n",
    "    else:\n",
    "        continue"
   ]
  },
  {
   "cell_type": "code",
   "execution_count": null,
   "id": "5ab6966a-b4cd-4c9e-ae21-815eac5b5c67",
   "metadata": {},
   "outputs": [],
   "source": [
    "dir = '/Users/jayml/Documents/Local Projects/MIAA/Bracket Downloads/brackets/'\n",
    "newdir = '/Users/jayml/Documents/Local Projects/MIAA/Bracket Downloads/brackets/riil/'\n",
    "directory = os.fsencode(dir)\n",
    "    \n",
    "for file in os.listdir(directory):\n",
    "    filename = os.fsdecode(file)\n",
    "    if 'Div I' in filename: \n",
    "        os.rename(os.path.join(dir, filename), os.path.join(newdir, filename))\n",
    "        print(filename + ' moved to riil folder.')\n",
    "        continue\n",
    "    else:\n",
    "        continue"
   ]
  },
  {
   "cell_type": "code",
   "execution_count": null,
   "id": "2452e1ba-37af-444f-a04f-9bc620147be7",
   "metadata": {},
   "outputs": [],
   "source": [
    "dir = '/Users/jayml/Documents/Local Projects/MIAA/Bracket Downloads/brackets/'\n",
    "newdir = '/Users/jayml/Documents/Local Projects/MIAA/Bracket Downloads/brackets/maine/'\n",
    "directory = os.fsencode(dir)\n",
    "    \n",
    "for file in os.listdir(directory):\n",
    "    filename = os.fsdecode(file)\n",
    "    if 'Bracket List' in filename: \n",
    "        os.rename(os.path.join(dir, filename), os.path.join(newdir, filename))\n",
    "        print(filename + ' moved to maine folder.')\n",
    "        continue\n",
    "    else:\n",
    "        continue"
   ]
  },
  {
   "cell_type": "code",
   "execution_count": null,
   "id": "c8a02ed1-5d26-4ecb-bc21-9289ba97593e",
   "metadata": {},
   "outputs": [],
   "source": []
  }
 ],
 "metadata": {
  "kernelspec": {
   "display_name": "Python 3 (ipykernel)",
   "language": "python",
   "name": "python3"
  },
  "language_info": {
   "codemirror_mode": {
    "name": "ipython",
    "version": 3
   },
   "file_extension": ".py",
   "mimetype": "text/x-python",
   "name": "python",
   "nbconvert_exporter": "python",
   "pygments_lexer": "ipython3",
   "version": "3.12.2"
  }
 },
 "nbformat": 4,
 "nbformat_minor": 5
}
