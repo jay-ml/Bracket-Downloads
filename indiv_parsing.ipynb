{
 "cells": [
  {
   "cell_type": "code",
   "execution_count": null,
   "id": "5ab6966a-b4cd-4c9e-ae21-815eac5b5c67",
   "metadata": {},
   "outputs": [],
   "source": [
    "dir = '/Users/jayml/Documents/Local Projects/MIAA/Bracket Downloads/results/'\n",
    "newdir = '/Users/jayml/Documents/Local Projects/MIAA/Bracket Downloads/results/tennis/'\n",
    "directory = os.fsencode(dir)\n",
    "    \n",
    "for file in os.listdir(directory):\n",
    "    filename = os.fsdecode(file)\n",
    "    if 'TENNIS' in filename: \n",
    "        os.rename(os.path.join(dir, filename), os.path.join(newdir, filename))\n",
    "        print(filename + ' moved to sport folder.')\n",
    "        continue\n",
    "    else:\n",
    "        continue"
   ]
  },
  {
   "cell_type": "code",
   "execution_count": null,
   "id": "c8aa5991-c5fe-4efd-88e1-440ed9cb6d2e",
   "metadata": {},
   "outputs": [],
   "source": [
    "# from tika import parser\n",
    "# import os\n",
    "\n",
    "# dir = '/Users/jayml/Documents/Local Projects/MIAA/Bracket Downloads/results/baseball/'\n",
    "# curdir = 'results/baseball/'\n",
    "# directory = os.fsencode(dir)\n",
    "    \n",
    "# for file in os.listdir(directory):\n",
    "#     filename = os.fsdecode(file)\n",
    "#     if (filename[0] == '.'):\n",
    "#         continue\n",
    "#     raw = parser.from_file(curdir + filename)\n",
    "#     l = raw['content'].split()\n",
    "#     i = l.index('Print')\n",
    "#     j = l.index('Organization:')\n",
    "#     titlel = l[i+1:j]\n",
    "#     s = titlel[0]\n",
    "#     for i in range(1,len(titlel)):\n",
    "#         s = s + ' ' + titlel[i]\n",
    "#     s = s + '.pdf'\n",
    "#     print(filename + \": \" + s)\n",
    "#     os.rename(os.path.join(dir, filename), os.path.join(dir, s))"
   ]
  },
  {
   "cell_type": "code",
   "execution_count": null,
   "id": "73ec9668-2548-4da5-960b-73c89a169df3",
   "metadata": {},
   "outputs": [],
   "source": []
  }
 ],
 "metadata": {
  "kernelspec": {
   "display_name": "Python 3 (ipykernel)",
   "language": "python",
   "name": "python3"
  },
  "language_info": {
   "codemirror_mode": {
    "name": "ipython",
    "version": 3
   },
   "file_extension": ".py",
   "mimetype": "text/x-python",
   "name": "python",
   "nbconvert_exporter": "python",
   "pygments_lexer": "ipython3",
   "version": "3.12.2"
  }
 },
 "nbformat": 4,
 "nbformat_minor": 5
}
