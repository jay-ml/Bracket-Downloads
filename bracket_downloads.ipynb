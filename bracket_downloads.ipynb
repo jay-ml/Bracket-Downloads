{
 "cells": [
  {
   "cell_type": "code",
   "execution_count": null,
   "id": "3322070a-147d-40e6-bebb-46d1b5ed0a38",
   "metadata": {},
   "outputs": [],
   "source": [
    "import pdfkit\n",
    "from urllib.request import urlopen"
   ]
  },
  {
   "cell_type": "code",
   "execution_count": null,
   "id": "304e7ca8-cf9d-4ed6-af10-340f91c36d2b",
   "metadata": {},
   "outputs": [],
   "source": [
    "pdfkit.from_url('http://miaa.statebrackets.com/tmenu.cfm?tid=6925', 'brackets/out.pdf')"
   ]
  },
  {
   "cell_type": "code",
   "execution_count": null,
   "id": "654b2e83-028d-4cbc-8a4b-c608c495f86b",
   "metadata": {},
   "outputs": [],
   "source": [
    "from urllib.request import urlopen\n",
    "url = \"http://miaa.statebrackets.com/tmenu.cfm?tid=0100\"\n",
    "page = urlopen(url)\n",
    "html_bytes = page.read()\n",
    "html = html_bytes.decode(\"utf-8\")"
   ]
  },
  {
   "cell_type": "code",
   "execution_count": null,
   "id": "801b55b6-339d-4ccb-9289-068ebcfe47d2",
   "metadata": {
    "scrolled": true
   },
   "outputs": [],
   "source": [
    "title_index = html.find(\"<title>\")\n",
    "start_index = title_index + len(\"<title>\")\n",
    "end_index = html.find(\"</title>\")\n",
    "title = html[start_index:end_index]\n",
    "print(title)"
   ]
  },
  {
   "cell_type": "code",
   "execution_count": null,
   "id": "a123441b-ca12-4a51-beaa-ceffc381018f",
   "metadata": {},
   "outputs": [],
   "source": [
    "null_title = title"
   ]
  },
  {
   "cell_type": "code",
   "execution_count": null,
   "id": "e5074022-346d-458f-ba6f-a4fbda0959cf",
   "metadata": {},
   "outputs": [],
   "source": [
    "def num_to_str(n):\n",
    "    if n > 999:\n",
    "        return str(n)\n",
    "    elif n > 99:\n",
    "        return '0' + str(n)\n",
    "    elif n > 9:\n",
    "        return '00' + str(n)\n",
    "    else:\n",
    "        return '000' + str(n)\n"
   ]
  },
  {
   "cell_type": "code",
   "execution_count": null,
   "id": "a318143f-8fd8-4f4c-9006-059709ad6cdd",
   "metadata": {},
   "outputs": [],
   "source": [
    "null_title = ' Bracket List'\n",
    "for i in range(7000,0,-1):\n",
    "    url = \"http://miaa.statebrackets.com/tmenu.cfm?tid=\" + num_to_str(i)\n",
    "    page = urlopen(url)\n",
    "    html_bytes = page.read()\n",
    "    html = html_bytes.decode(\"utf-8\")\n",
    "    title_index = html.find(\"<title>\")\n",
    "    start_index = title_index + len(\"<title>\")\n",
    "    end_index = html.find(\"</title>\")\n",
    "    title = html[start_index:end_index]\n",
    "    title = title.replace('/','-')\n",
    "    if title != null_title:\n",
    "        print('Valid Number: ' + str(i))\n",
    "        pdfkit.from_url('http://miaa.statebrackets.com/tmenu.cfm?tid=' + num_to_str(i), 'brackets/' + title + '.pdf')"
   ]
  },
  {
   "cell_type": "code",
   "execution_count": null,
   "id": "eb7fdfa2-7c97-46aa-961a-c22740d4d2a8",
   "metadata": {},
   "outputs": [],
   "source": []
  }
 ],
 "metadata": {
  "kernelspec": {
   "display_name": "Python 3 (ipykernel)",
   "language": "python",
   "name": "python3"
  },
  "language_info": {
   "codemirror_mode": {
    "name": "ipython",
    "version": 3
   },
   "file_extension": ".py",
   "mimetype": "text/x-python",
   "name": "python",
   "nbconvert_exporter": "python",
   "pygments_lexer": "ipython3",
   "version": "3.12.2"
  }
 },
 "nbformat": 4,
 "nbformat_minor": 5
}
