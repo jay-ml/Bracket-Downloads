{
 "cells": [
  {
   "cell_type": "code",
   "execution_count": null,
   "id": "6d2e8805-f83f-4809-8427-d0bf5bb8e8e1",
   "metadata": {},
   "outputs": [],
   "source": [
    "import pdfkit\n",
    "from tika import parser\n",
    "import os\n",
    "\n",
    "sample = 'http://miaa.ezstream.net/index.cfm?itemid=8620'\n",
    "pdfkit.from_url(sample, 'results/out.pdf')"
   ]
  },
  {
   "cell_type": "code",
   "execution_count": null,
   "id": "ad2539d6-f1a0-4253-9897-690df7b7b878",
   "metadata": {},
   "outputs": [],
   "source": [
    "raw = parser.from_file('results/out.pdf')\n",
    "print(raw['content'])"
   ]
  },
  {
   "cell_type": "code",
   "execution_count": null,
   "id": "29ab5a9f-3df3-4187-bfc3-0267ef3dba82",
   "metadata": {},
   "outputs": [],
   "source": [
    "l = raw['content'].split()\n",
    "i = l.index('Menu')\n",
    "ls = l[i+1:i+11]\n",
    "title = ls[0]\n",
    "for i in range(1,len(ls)):\n",
    "    title = title + ' ' + ls[i]\n",
    "title = title.replace('/','-')\n",
    "print(title)"
   ]
  },
  {
   "cell_type": "code",
   "execution_count": null,
   "id": "9cc3e2a8-59a4-4fe2-a996-195fc315ee15",
   "metadata": {},
   "outputs": [],
   "source": [
    "import os\n",
    "dir = '/Users/jayml/Documents/Local Projects/MIAA/Bracket Downloads/results/'\n",
    "filename = 'out.pdf'\n",
    "os.rename(os.path.join(dir, filename), os.path.join(dir, title + '.pdf'))"
   ]
  },
  {
   "cell_type": "code",
   "execution_count": null,
   "id": "2c97aa0e-8398-41e3-ac40-d71f922a2fed",
   "metadata": {},
   "outputs": [],
   "source": [
    "def num_to_str(n):\n",
    "    if n > 999:\n",
    "        return str(n)\n",
    "    elif n > 99:\n",
    "        return '0' + str(n)\n",
    "    elif n > 9:\n",
    "        return '00' + str(n)\n",
    "    else:\n",
    "        return '000' + str(n)\n"
   ]
  },
  {
   "cell_type": "code",
   "execution_count": null,
   "id": "ca2a6772-e31f-4c1e-890c-51a390d3155e",
   "metadata": {
    "scrolled": true
   },
   "outputs": [],
   "source": [
    "dir = '/Users/jayml/Documents/Local Projects/MIAA/Bracket Downloads/results/'\n",
    "filename = 'out.pdf'\n",
    "for i in range(4000,0,-1):\n",
    "    url = \"http://miaa.ezstream.net/index.cfm?itemid=\" + num_to_str(i)\n",
    "    try:\n",
    "        pdfkit.from_url(url, 'results/out.pdf')\n",
    "        print(str(i))\n",
    "    except:\n",
    "        print(str(i) + '!')\n",
    "        continue\n",
    "    raw = parser.from_file('results/out.pdf')\n",
    "    l = raw['content'].split()\n",
    "    i = l.count('Menu')\n",
    "    if (i == 0):\n",
    "        continue\n",
    "    else:  \n",
    "        i = l.index('Menu')\n",
    "    ls = l[i+1:i+16]\n",
    "    title = ls[0]\n",
    "    for i in range(1,len(ls)):\n",
    "        title = title + ' ' + ls[i]\n",
    "    title = title.replace('/','-')\n",
    "    print('Found: ' + title)\n",
    "    newname = os.path.join(dir, title + '.pdf')\n",
    "    if len(newname) > 255:\n",
    "        newname = newname[:252] + '.pdf'\n",
    "    os.rename(os.path.join(dir, filename), newname)\n",
    "    \n"
   ]
  },
  {
   "cell_type": "code",
   "execution_count": null,
   "id": "9980009d-46c1-4cda-a954-d852671c6f4e",
   "metadata": {},
   "outputs": [],
   "source": []
  }
 ],
 "metadata": {
  "kernelspec": {
   "display_name": "Python 3 (ipykernel)",
   "language": "python",
   "name": "python3"
  },
  "language_info": {
   "codemirror_mode": {
    "name": "ipython",
    "version": 3
   },
   "file_extension": ".py",
   "mimetype": "text/x-python",
   "name": "python",
   "nbconvert_exporter": "python",
   "pygments_lexer": "ipython3",
   "version": "3.12.2"
  }
 },
 "nbformat": 4,
 "nbformat_minor": 5
}
